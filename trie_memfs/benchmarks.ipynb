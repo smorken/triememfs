{
 "cells": [
  {
   "cell_type": "code",
   "execution_count": null,
   "id": "ca59e0a2",
   "metadata": {},
   "outputs": [
    {
     "name": "stdout",
     "output_type": "stream",
     "text": [
      "\n",
      "Creating tree in trie_memory...\n",
      "\n",
      "Creating tree in memory...\n",
      "\n",
      "Creating tree in local...\n"
     ]
    },
    {
     "data": {
      "application/vnd.microsoft.datawrangler.viewer.v0+json": {
       "columns": [
        {
         "name": "index",
         "rawType": "int64",
         "type": "integer"
        },
        {
         "name": "filesystem",
         "rawType": "object",
         "type": "string"
        },
        {
         "name": "make_tree",
         "rawType": "float64",
         "type": "float"
        },
        {
         "name": "ls_root",
         "rawType": "float64",
         "type": "float"
        },
        {
         "name": "walk",
         "rawType": "float64",
         "type": "float"
        },
        {
         "name": "cat_random_file",
         "rawType": "object",
         "type": "unknown"
        },
        {
         "name": "rm",
         "rawType": "float64",
         "type": "float"
        }
       ],
       "ref": "ea3f4cc1-ae2e-425e-a64a-ee29f28b6294",
       "rows": [
        [
         "0",
         "trie_memory",
         "0.003613000000768807",
         "1.1233333983303359e-05",
         "5.7966666645370424e-05",
         null,
         "0.0016643999988446012"
        ],
        [
         "1",
         "memory",
         "0.003673800005344674",
         "0.0001901333331867742",
         "0.0016896333327167667",
         null,
         "0.003775199998926837"
        ],
        [
         "2",
         "local",
         "0.17764780000288738",
         "0.0001301333322771825",
         "0.004867199999959364",
         null,
         "0.06945029999769758"
        ]
       ],
       "shape": {
        "columns": 6,
        "rows": 3
       }
      },
      "text/html": [
       "<div>\n",
       "<style scoped>\n",
       "    .dataframe tbody tr th:only-of-type {\n",
       "        vertical-align: middle;\n",
       "    }\n",
       "\n",
       "    .dataframe tbody tr th {\n",
       "        vertical-align: top;\n",
       "    }\n",
       "\n",
       "    .dataframe thead th {\n",
       "        text-align: right;\n",
       "    }\n",
       "</style>\n",
       "<table border=\"1\" class=\"dataframe\">\n",
       "  <thead>\n",
       "    <tr style=\"text-align: right;\">\n",
       "      <th></th>\n",
       "      <th>filesystem</th>\n",
       "      <th>make_tree</th>\n",
       "      <th>ls_root</th>\n",
       "      <th>walk</th>\n",
       "      <th>cat_random_file</th>\n",
       "      <th>rm</th>\n",
       "    </tr>\n",
       "  </thead>\n",
       "  <tbody>\n",
       "    <tr>\n",
       "      <th>0</th>\n",
       "      <td>trie_memory</td>\n",
       "      <td>0.003613</td>\n",
       "      <td>0.000011</td>\n",
       "      <td>0.000058</td>\n",
       "      <td>None</td>\n",
       "      <td>0.001664</td>\n",
       "    </tr>\n",
       "    <tr>\n",
       "      <th>1</th>\n",
       "      <td>memory</td>\n",
       "      <td>0.003674</td>\n",
       "      <td>0.000190</td>\n",
       "      <td>0.001690</td>\n",
       "      <td>None</td>\n",
       "      <td>0.003775</td>\n",
       "    </tr>\n",
       "    <tr>\n",
       "      <th>2</th>\n",
       "      <td>local</td>\n",
       "      <td>0.177648</td>\n",
       "      <td>0.000130</td>\n",
       "      <td>0.004867</td>\n",
       "      <td>None</td>\n",
       "      <td>0.069450</td>\n",
       "    </tr>\n",
       "  </tbody>\n",
       "</table>\n",
       "</div>"
      ],
      "text/plain": [
       "    filesystem  make_tree   ls_root      walk cat_random_file        rm\n",
       "0  trie_memory   0.003613  0.000011  0.000058            None  0.001664\n",
       "1       memory   0.003674  0.000190  0.001690            None  0.003775\n",
       "2        local   0.177648  0.000130  0.004867            None  0.069450"
      ]
     },
     "metadata": {},
     "output_type": "display_data"
    }
   ],
   "source": [
    "import io\n",
    "import os\n",
    "import time\n",
    "import random\n",
    "import string\n",
    "from pathlib import Path\n",
    "from trie_memfs import TrieMemoryFileSystem\n",
    "import fsspec\n",
    "import pandas as pd\n",
    "\n",
    "# --------------------------\n",
    "# Configurable Parameters\n",
    "# --------------------------\n",
    "N_DIRS = 10          # top-level dirs\n",
    "N_SUBDIRS = 2     # subdirs per dir\n",
    "N_FILES = 20        # files per subdir\n",
    "DEPTH = 2           # directory depth\n",
    "FILE_SIZE = 1024    # bytes per file\n",
    "SEED = 42           # reproducible random content\n",
    "\n",
    "FILESYSTEMS: dict[str, fsspec.AbstractFileSystem] = {\n",
    "    \"trie_memory\": TrieMemoryFileSystem(),\n",
    "    \"memory\": fsspec.filesystem(\"memory\"),\n",
    "    \"local\": fsspec.filesystem(\"file\"),\n",
    "}\n",
    "\n",
    "# --------------------------\n",
    "# Helper functions\n",
    "# --------------------------\n",
    "\n",
    "def random_bytes(size):\n",
    "    \"\"\"Generate deterministic random bytes.\"\"\"\n",
    "    rnd = random.Random(SEED)\n",
    "    return rnd.randbytes(size) if hasattr(rnd, \"randbytes\") else bytes(\n",
    "        rnd.getrandbits(8) for _ in range(size)\n",
    "    )\n",
    "\n",
    "def make_tree(fs: fsspec.AbstractFileSystem, base_path: str, depth: int, n_dirs: int, n_subdirs: int, n_files: int, random_file: bytes):\n",
    "    \"\"\"Create a synthetic directory tree with files in given filesystem.\"\"\"\n",
    "\n",
    "    def _populate(path, level):\n",
    "        if level >= depth:\n",
    "            return\n",
    "        for d in range(n_dirs if level == 0 else n_subdirs):\n",
    "            dir_path = f\"{path}/dir_{level}_{d}\"\n",
    "            fs.mkdirs(dir_path, exist_ok=True)\n",
    "            for f in range(n_files):\n",
    "                file_path = f\"{dir_path}/file_{f}.bin\"\n",
    "                with fs.open(file_path, \"wb\") as fobj:\n",
    "                    fobj.write(random_file)\n",
    "            _populate(dir_path, level + 1)\n",
    "    _populate(base_path, 0)\n",
    "\n",
    "def time_call(func, *args, repeat=3, **kwargs):\n",
    "    \"\"\"Time a callable, returning average duration.\"\"\"\n",
    "    times = []\n",
    "    for _ in range(repeat):\n",
    "        start = time.perf_counter()\n",
    "        func(*args, **kwargs)\n",
    "        times.append(time.perf_counter() - start)\n",
    "    return sum(times) / len(times)\n",
    "\n",
    "# --------------------------\n",
    "# Benchmark runner\n",
    "# --------------------------\n",
    "\n",
    "content = random_bytes(FILE_SIZE)\n",
    "\n",
    "results = []\n",
    "for fs_name, fs in FILESYSTEMS.items():\n",
    "    base = f\"/benchmark_{fs_name}\"\n",
    "    print(f\"\\nCreating tree in {fs_name}...\")\n",
    "   # make_tree(fs, base, DEPTH, N_DIRS, N_SUBDIRS, N_FILES, content)\n",
    "\n",
    "    # Benchmark operations\n",
    "    timings = {\n",
    "        \"make_tree\": time_call(lambda: make_tree(fs, base, DEPTH, N_DIRS, N_SUBDIRS, N_FILES, content), repeat=1),\n",
    "        \"ls_root\": time_call(fs.ls, base, detail=True),\n",
    "        \"walk\": time_call(lambda: list(fs.walk(base))),\n",
    "        \"cat_random_file\": None,\n",
    "        \"rm\": time_call(lambda: fs.rm(base, recursive=True), repeat=1)\n",
    "    }\n",
    "\n",
    "\n",
    "    # Pick a random file\n",
    "    all_files = [\n",
    "        f\"{base}/dir_0_0/file_0.bin\",  # deterministic example\n",
    "    ]\n",
    "    if fs.exists(all_files[0]):\n",
    "        timings[\"cat_random_file\"] = time_call(fs.cat, all_files[0])\n",
    "\n",
    "    results.append({\n",
    "        \"filesystem\": fs_name,\n",
    "        **timings\n",
    "    })\n",
    "\n",
    "# --------------------------\n",
    "# Display results\n",
    "# --------------------------\n",
    "df = pd.DataFrame(results)\n",
    "display(df)"
   ]
  },
  {
   "cell_type": "code",
   "execution_count": null,
   "id": "f99d15c7",
   "metadata": {},
   "outputs": [],
   "source": []
  }
 ],
 "metadata": {
  "kernelspec": {
   "display_name": ".venv",
   "language": "python",
   "name": "python3"
  },
  "language_info": {
   "codemirror_mode": {
    "name": "ipython",
    "version": 3
   },
   "file_extension": ".py",
   "mimetype": "text/x-python",
   "name": "python",
   "nbconvert_exporter": "python",
   "pygments_lexer": "ipython3",
   "version": "3.12.8"
  }
 },
 "nbformat": 4,
 "nbformat_minor": 5
}
