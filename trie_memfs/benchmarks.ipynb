{
 "cells": [
  {
   "cell_type": "code",
   "execution_count": 6,
   "id": "ca59e0a2",
   "metadata": {},
   "outputs": [],
   "source": [
    "import time\n",
    "import random\n",
    "import tempfile\n",
    "from trie_memfs import TrieMemoryFileSystem\n",
    "import fsspec\n",
    "import pandas as pd\n",
    "pd.set_option(\"display.float_format\", \"{:.3e}\".format)\n",
    "from morefs.dict import DictFS\n",
    "from morefs.memory import MemFS\n",
    "\n",
    "tempdir = tempfile.TemporaryDirectory()\n",
    "\n",
    "def random_bytes(size: int, seed: int):\n",
    "    \"\"\"Generate deterministic random bytes.\"\"\"\n",
    "    rnd = random.Random(seed)\n",
    "    return rnd.randbytes(size) if hasattr(rnd, \"randbytes\") else bytes(\n",
    "        rnd.getrandbits(8) for _ in range(size)\n",
    "    )\n",
    "\n",
    "def make_tree(fs: fsspec.AbstractFileSystem, base_path: str, depth: int, n_dirs: int, n_subdirs: int, n_files: int, random_file: bytes, file_list: list[str]):\n",
    "    \"\"\"Create a synthetic directory tree with files in given filesystem.\"\"\"\n",
    "    def _populate(path, level):\n",
    "        if level >= depth:\n",
    "            return\n",
    "        for d in range(n_dirs if level == 0 else n_subdirs):\n",
    "            dir_path = f\"{path}/dir_{level}_{d}\"\n",
    "            fs.mkdirs(dir_path, exist_ok=True)\n",
    "            for f in range(n_files):\n",
    "                file_path = f\"{dir_path}/file_{f}.bin\"\n",
    "                with fs.open(file_path, \"wb\") as fobj:\n",
    "                    fobj.write(random_file)\n",
    "                    file_list.append(file_path)\n",
    "            _populate(dir_path, level + 1)\n",
    "    _populate(base_path, 0)\n",
    "    return file_list\n",
    "\n",
    "def time_call(func, *args, repeat=3, **kwargs):\n",
    "    \"\"\"Time a callable, returning average duration.\"\"\"\n",
    "    times = []\n",
    "    for _ in range(repeat):\n",
    "        start = time.perf_counter()\n",
    "        func(*args, **kwargs)\n",
    "        times.append(time.perf_counter() - start)\n",
    "    return sum(times) / len(times)\n",
    "\n",
    "def run_benchmarks(file_systems: dict[str, fsspec.AbstractFileSystem], seed: int, file_size: int, depth: int, n_dirs: int, n_sub_dirs: int, n_files: int):\n",
    "    content = random_bytes(file_size, seed)\n",
    "\n",
    "    results = []\n",
    "    for fs_name, fs in file_systems.items():\n",
    "        if fs_name == \"local\":\n",
    "            base = tempdir.name\n",
    "        else:\n",
    "            base = f\"/benchmark_{fs_name}\"\n",
    "        print(f\"\\nCreating tree in {fs_name}...\")\n",
    "    # make_tree(fs, base, DEPTH, N_DIRS, N_SUBDIRS, N_FILES, content)\n",
    "        file_list = []\n",
    "        # Benchmark operations\n",
    "        timings = {\n",
    "            \"make_tree\": time_call(lambda: make_tree(fs, base, depth, n_dirs, n_sub_dirs, n_files, content, file_list), repeat=1),\n",
    "            \"ls_root\": time_call(fs.ls, base, detail=True),\n",
    "            \"walk\": time_call(lambda: list(fs.walk(base))),\n",
    "        }\n",
    "\n",
    "        def cat_random_files():\n",
    "            for file in file_list:\n",
    "                fs.cat(file)\n",
    "        timings[\"cat_random_file\"] = time_call(cat_random_files)\n",
    "\n",
    "        timings[\"rm\"] = time_call(lambda: fs.rm(base, recursive=True), repeat=1)\n",
    "        results.append({\n",
    "            \"filesystem\": fs_name,\n",
    "            **timings\n",
    "        })\n",
    "\n",
    "    df = pd.DataFrame(results)\n",
    "    return df"
   ]
  },
  {
   "cell_type": "code",
   "execution_count": 7,
   "id": "f99d15c7",
   "metadata": {},
   "outputs": [
    {
     "name": "stdout",
     "output_type": "stream",
     "text": [
      "\n",
      "Creating tree in trie_memory...\n",
      "\n",
      "Creating tree in memory...\n",
      "\n",
      "Creating tree in local...\n",
      "\n",
      "Creating tree in morefs_DictFS...\n",
      "\n",
      "Creating tree in morefs_MemFS...\n"
     ]
    },
    {
     "data": {
      "application/vnd.microsoft.datawrangler.viewer.v0+json": {
       "columns": [
        {
         "name": "index",
         "rawType": "int64",
         "type": "integer"
        },
        {
         "name": "filesystem",
         "rawType": "object",
         "type": "string"
        },
        {
         "name": "make_tree",
         "rawType": "float64",
         "type": "float"
        },
        {
         "name": "ls_root",
         "rawType": "float64",
         "type": "float"
        },
        {
         "name": "walk",
         "rawType": "float64",
         "type": "float"
        },
        {
         "name": "cat_random_file",
         "rawType": "float64",
         "type": "float"
        },
        {
         "name": "rm",
         "rawType": "float64",
         "type": "float"
        }
       ],
       "ref": "04f17cd1-91c4-4aef-b5c9-edbd3d9b6810",
       "rows": [
        [
         "0",
         "trie_memory",
         "0.0541603000019677",
         "0.00023646666280304393",
         "0.0003331333330910032",
         "0.019118533333918702",
         "0.009403700001712423"
        ],
        [
         "1",
         "memory",
         "0.02048300000024028",
         "0.00095810000008593",
         "0.016192733334416214",
         "0.014985966663516592",
         "0.019654499999887776"
        ],
        [
         "2",
         "local",
         "1.1291362999982084",
         "0.000202233330734695",
         "0.006484366667185289",
         "0.5900204999973843",
         "0.1992478000029223"
        ],
        [
         "3",
         "morefs_DictFS",
         "0.014191700000083074",
         "1.2733330853128185e-05",
         "0.001094366666317607",
         "0.011789100002109384",
         "0.0006595999948331155"
        ],
        [
         "4",
         "morefs_MemFS",
         "0.023843200004193932",
         "0.00010790000184594344",
         "0.0022430000002107895",
         "0.013090333331395717",
         "0.012534300003608223"
        ]
       ],
       "shape": {
        "columns": 6,
        "rows": 5
       }
      },
      "text/html": [
       "<div>\n",
       "<style scoped>\n",
       "    .dataframe tbody tr th:only-of-type {\n",
       "        vertical-align: middle;\n",
       "    }\n",
       "\n",
       "    .dataframe tbody tr th {\n",
       "        vertical-align: top;\n",
       "    }\n",
       "\n",
       "    .dataframe thead th {\n",
       "        text-align: right;\n",
       "    }\n",
       "</style>\n",
       "<table border=\"1\" class=\"dataframe\">\n",
       "  <thead>\n",
       "    <tr style=\"text-align: right;\">\n",
       "      <th></th>\n",
       "      <th>filesystem</th>\n",
       "      <th>make_tree</th>\n",
       "      <th>ls_root</th>\n",
       "      <th>walk</th>\n",
       "      <th>cat_random_file</th>\n",
       "      <th>rm</th>\n",
       "    </tr>\n",
       "  </thead>\n",
       "  <tbody>\n",
       "    <tr>\n",
       "      <th>0</th>\n",
       "      <td>trie_memory</td>\n",
       "      <td>5.416e-02</td>\n",
       "      <td>2.365e-04</td>\n",
       "      <td>3.331e-04</td>\n",
       "      <td>1.912e-02</td>\n",
       "      <td>9.404e-03</td>\n",
       "    </tr>\n",
       "    <tr>\n",
       "      <th>1</th>\n",
       "      <td>memory</td>\n",
       "      <td>2.048e-02</td>\n",
       "      <td>9.581e-04</td>\n",
       "      <td>1.619e-02</td>\n",
       "      <td>1.499e-02</td>\n",
       "      <td>1.965e-02</td>\n",
       "    </tr>\n",
       "    <tr>\n",
       "      <th>2</th>\n",
       "      <td>local</td>\n",
       "      <td>1.129e+00</td>\n",
       "      <td>2.022e-04</td>\n",
       "      <td>6.484e-03</td>\n",
       "      <td>5.900e-01</td>\n",
       "      <td>1.992e-01</td>\n",
       "    </tr>\n",
       "    <tr>\n",
       "      <th>3</th>\n",
       "      <td>morefs_DictFS</td>\n",
       "      <td>1.419e-02</td>\n",
       "      <td>1.273e-05</td>\n",
       "      <td>1.094e-03</td>\n",
       "      <td>1.179e-02</td>\n",
       "      <td>6.596e-04</td>\n",
       "    </tr>\n",
       "    <tr>\n",
       "      <th>4</th>\n",
       "      <td>morefs_MemFS</td>\n",
       "      <td>2.384e-02</td>\n",
       "      <td>1.079e-04</td>\n",
       "      <td>2.243e-03</td>\n",
       "      <td>1.309e-02</td>\n",
       "      <td>1.253e-02</td>\n",
       "    </tr>\n",
       "  </tbody>\n",
       "</table>\n",
       "</div>"
      ],
      "text/plain": [
       "      filesystem  make_tree   ls_root      walk  cat_random_file        rm\n",
       "0    trie_memory  5.416e-02 2.365e-04 3.331e-04        1.912e-02 9.404e-03\n",
       "1         memory  2.048e-02 9.581e-04 1.619e-02        1.499e-02 1.965e-02\n",
       "2          local  1.129e+00 2.022e-04 6.484e-03        5.900e-01 1.992e-01\n",
       "3  morefs_DictFS  1.419e-02 1.273e-05 1.094e-03        1.179e-02 6.596e-04\n",
       "4   morefs_MemFS  2.384e-02 1.079e-04 2.243e-03        1.309e-02 1.253e-02"
      ]
     },
     "metadata": {},
     "output_type": "display_data"
    }
   ],
   "source": [
    "\n",
    "results = run_benchmarks(\n",
    "    file_systems={\n",
    "        \"trie_memory\": TrieMemoryFileSystem(),\n",
    "        \"memory\": fsspec.filesystem(\"memory\"),\n",
    "        \"local\": fsspec.filesystem(\"file\"),\n",
    "        \"morefs_DictFS\": DictFS(),\n",
    "        \"morefs_MemFS\": MemFS()\n",
    "    },\n",
    "    seed=42,\n",
    "    n_dirs=10,\n",
    "    n_sub_dirs=2,\n",
    "    n_files=20,\n",
    "    depth=2,\n",
    "    file_size=1024,\n",
    ")\n",
    "display(results)"
   ]
  },
  {
   "cell_type": "code",
   "execution_count": 10,
   "id": "b4e1d033",
   "metadata": {},
   "outputs": [
    {
     "data": {
      "text/plain": [
       "<Axes: xlabel='filesystem', ylabel='time [s]'>"
      ]
     },
     "execution_count": 10,
     "metadata": {},
     "output_type": "execute_result"
    },
    {
     "data": {
      "image/png": "[encoded data removed]",
      "text/plain": [
       "<Figure size 640x480 with 1 Axes>"
      ]
     },
     "metadata": {},
     "output_type": "display_data"
    }
   ],
   "source": [
    "results.set_index(\"filesystem\").plot(kind=\"bar\", ylabel=\"time [s]\")"
   ]
  },
  {
   "cell_type": "code",
   "execution_count": 11,
   "id": "a874c045",
   "metadata": {},
   "outputs": [
    {
     "name": "stdout",
     "output_type": "stream",
     "text": [
      "\n",
      "Creating tree in trie_memory...\n",
      "\n",
      "Creating tree in morefs_DictFS...\n",
      "\n",
      "Creating tree in morefs_MemFS...\n"
     ]
    },
    {
     "data": {
      "application/vnd.microsoft.datawrangler.viewer.v0+json": {
       "columns": [
        {
         "name": "index",
         "rawType": "int64",
         "type": "integer"
        },
        {
         "name": "filesystem",
         "rawType": "object",
         "type": "string"
        },
        {
         "name": "make_tree",
         "rawType": "float64",
         "type": "float"
        },
        {
         "name": "ls_root",
         "rawType": "float64",
         "type": "float"
        },
        {
         "name": "walk",
         "rawType": "float64",
         "type": "float"
        },
        {
         "name": "cat_random_file",
         "rawType": "float64",
         "type": "float"
        },
        {
         "name": "rm",
         "rawType": "float64",
         "type": "float"
        }
       ],
       "ref": "3417443b-db32-4d7a-8bcd-a7d46933d2c1",
       "rows": [
        [
         "0",
         "trie_memory",
         "5.691651400004048",
         "0.00017126666595383236",
         "0.08658903333222649",
         "2.675405633332654",
         "2.1522713000013027"
        ],
        [
         "1",
         "morefs_DictFS",
         "6.706057999996119",
         "2.206666492080937e-05",
         "1.0208488333325174",
         "4.676147433332517",
         "0.22849249999853782"
        ],
        [
         "2",
         "morefs_MemFS",
         "8.749839299998712",
         "0.00011030000071817388",
         "1.0028397999970668",
         "5.055669766668871",
         "2.8522163999950862"
        ]
       ],
       "shape": {
        "columns": 6,
        "rows": 3
       }
      },
      "text/html": [
       "<div>\n",
       "<style scoped>\n",
       "    .dataframe tbody tr th:only-of-type {\n",
       "        vertical-align: middle;\n",
       "    }\n",
       "\n",
       "    .dataframe tbody tr th {\n",
       "        vertical-align: top;\n",
       "    }\n",
       "\n",
       "    .dataframe thead th {\n",
       "        text-align: right;\n",
       "    }\n",
       "</style>\n",
       "<table border=\"1\" class=\"dataframe\">\n",
       "  <thead>\n",
       "    <tr style=\"text-align: right;\">\n",
       "      <th></th>\n",
       "      <th>filesystem</th>\n",
       "      <th>make_tree</th>\n",
       "      <th>ls_root</th>\n",
       "      <th>walk</th>\n",
       "      <th>cat_random_file</th>\n",
       "      <th>rm</th>\n",
       "    </tr>\n",
       "  </thead>\n",
       "  <tbody>\n",
       "    <tr>\n",
       "      <th>0</th>\n",
       "      <td>trie_memory</td>\n",
       "      <td>5.692e+00</td>\n",
       "      <td>1.713e-04</td>\n",
       "      <td>8.659e-02</td>\n",
       "      <td>2.675e+00</td>\n",
       "      <td>2.152e+00</td>\n",
       "    </tr>\n",
       "    <tr>\n",
       "      <th>1</th>\n",
       "      <td>morefs_DictFS</td>\n",
       "      <td>6.706e+00</td>\n",
       "      <td>2.207e-05</td>\n",
       "      <td>1.021e+00</td>\n",
       "      <td>4.676e+00</td>\n",
       "      <td>2.285e-01</td>\n",
       "    </tr>\n",
       "    <tr>\n",
       "      <th>2</th>\n",
       "      <td>morefs_MemFS</td>\n",
       "      <td>8.750e+00</td>\n",
       "      <td>1.103e-04</td>\n",
       "      <td>1.003e+00</td>\n",
       "      <td>5.056e+00</td>\n",
       "      <td>2.852e+00</td>\n",
       "    </tr>\n",
       "  </tbody>\n",
       "</table>\n",
       "</div>"
      ],
      "text/plain": [
       "      filesystem  make_tree   ls_root      walk  cat_random_file        rm\n",
       "0    trie_memory  5.692e+00 1.713e-04 8.659e-02        2.675e+00 2.152e+00\n",
       "1  morefs_DictFS  6.706e+00 2.207e-05 1.021e+00        4.676e+00 2.285e-01\n",
       "2   morefs_MemFS  8.750e+00 1.103e-04 1.003e+00        5.056e+00 2.852e+00"
      ]
     },
     "metadata": {},
     "output_type": "display_data"
    }
   ],
   "source": [
    "results_bigger = run_benchmarks(\n",
    "    file_systems={\n",
    "        \"trie_memory\": TrieMemoryFileSystem(),\n",
    "        #\"memory\": fsspec.filesystem(\"memory\"),  # too slow to include\n",
    "        #\"local\": fsspec.filesystem(\"file\"), # too slow to include\n",
    "        \"morefs_DictFS\": DictFS(),\n",
    "        \"morefs_MemFS\": MemFS()\n",
    "    },\n",
    "    seed=42,\n",
    "    n_dirs=20,\n",
    "    n_sub_dirs=8,\n",
    "    n_files=20,\n",
    "    depth=4,\n",
    "    file_size=1024,\n",
    ")\n",
    "display(results_bigger)"
   ]
  },
  {
   "cell_type": "code",
   "execution_count": 12,
   "id": "a7d6e386",
   "metadata": {},
   "outputs": [
    {
     "data": {
      "text/plain": [
       "<Axes: xlabel='filesystem', ylabel='time [s]'>"
      ]
     },
     "execution_count": 12,
     "metadata": {},
     "output_type": "execute_result"
    },
    {
     "data": {
      "image/png": "[encoded data removed]",
      "text/plain": [
       "<Figure size 640x480 with 1 Axes>"
      ]
     },
     "metadata": {},
     "output_type": "display_data"
    }
   ],
   "source": [
    "results_bigger.set_index(\"filesystem\").plot(kind=\"bar\", ylabel=\"time [s]\")"
   ]
  },
  {
   "cell_type": "code",
   "execution_count": null,
   "id": "72ff9175",
   "metadata": {},
   "outputs": [],
   "source": []
  }
 ],
 "metadata": {
  "kernelspec": {
   "display_name": ".venv",
   "language": "python",
   "name": "python3"
  },
  "language_info": {
   "codemirror_mode": {
    "name": "ipython",
    "version": 3
   },
   "file_extension": ".py",
   "mimetype": "text/x-python",
   "name": "python",
   "nbconvert_exporter": "python",
   "pygments_lexer": "ipython3",
   "version": "3.12.8"
  }
 },
 "nbformat": 4,
 "nbformat_minor": 5
}
